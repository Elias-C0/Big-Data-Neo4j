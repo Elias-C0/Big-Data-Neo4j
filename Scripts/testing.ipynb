{
 "cells": [
  {
   "cell_type": "code",
   "execution_count": null,
   "id": "81962b1f",
   "metadata": {},
   "outputs": [],
   "source": [
    "import numpy as np \n",
    "import pandas as pd\n",
    "\n",
    "df_playlist = pd.read_csv(\n",
    "    \"C:/Users/Elias/.Neo4jDesktop/relate-data/dbmss/dbms-d80e22ad-ccfd-4af9-b25b-7a0d123cddec/import/spotify_dataset.csv\",\n",
    "    on_bad_lines=\"skip\"  # Ignora líneas problemáticas\n",
    ")\n"
   ]
  },
  {
   "cell_type": "code",
   "execution_count": 21,
   "id": "97690f28",
   "metadata": {},
   "outputs": [
    {
     "data": {
      "text/plain": [
       "Index(['user_id', 'artist', 'track', 'playlist'], dtype='object')"
      ]
     },
     "execution_count": 21,
     "metadata": {},
     "output_type": "execute_result"
    }
   ],
   "source": [
    "df_playlist.columns = df_playlist.columns.str.replace('\"', '')\n",
    "df_playlist.columns = df_playlist.columns.str.replace('name', '')\n",
    "df_playlist.columns = df_playlist.columns.str.replace(' ', '')\n",
    "df_playlist.columns"
   ]
  },
  {
   "cell_type": "code",
   "execution_count": 22,
   "id": "6e182a42",
   "metadata": {},
   "outputs": [],
   "source": [
    "df_playlist.to_csv(\n",
    "    \"C:/Users/Elias/.Neo4jDesktop/relate-data/dbmss/dbms-d80e22ad-ccfd-4af9-b25b-7a0d123cddec/import/spotify_cleaned.csv\",  # Ruta donde guardarás el archivo\n",
    "    index=False,  # Evita guardar el índice como una columna en el CSV\n",
    "    sep=\",\",  # Especifica el delimitador, en este caso una coma\n",
    "    encoding=\"utf-8\"  # Asegura un correcto manejo de caracteres especiales\n",
    ")"
   ]
  },
  {
   "cell_type": "code",
   "execution_count": null,
   "id": "7febbdcf",
   "metadata": {},
   "outputs": [],
   "source": []
  }
 ],
 "metadata": {
  "kernelspec": {
   "display_name": "Python 3",
   "language": "python",
   "name": "python3"
  },
  "language_info": {
   "codemirror_mode": {
    "name": "ipython",
    "version": 3
   },
   "file_extension": ".py",
   "mimetype": "text/x-python",
   "name": "python",
   "nbconvert_exporter": "python",
   "pygments_lexer": "ipython3",
   "version": "3.11.9"
  }
 },
 "nbformat": 4,
 "nbformat_minor": 5
}
